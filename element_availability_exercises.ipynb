{
 "cells": [
  {
   "cell_type": "markdown",
   "id": "a6b13fd3",
   "metadata": {},
   "source": [
    "Element availability for electrocatalysis\n",
    "=============================\n",
    "Soren B. Scott\n",
    "\n",
    "This notebook was originally developed for lectures held on Jan 11, 2024 in the course Materials Chemistry (MatChem) at the University of Copenhagen. \n",
    "\n",
    "\n",
    "Abstract\n",
    "-------------\n",
    "This notebook demonstrates calculations of the amount of material needed in electrochemical reactions in the global energy transition under stated assumptions. All the necessary references are included in the text of the notebook. Three cases are investegated as examples: Platinum on the cathode of PEM electrolyzesr, iridium on the anode of PEM electrolyzers, and platinum on the cathode of PEM fuel cells. The case of platinum in PEM electrolyzer cathodes is worked, whereas platinum for fuel cells and iridium for PEM electrolyzer anodes are left as guided problems for the students. In all cases, the predicted precious metal demand is an upper limit, as in reality PEM electrolyzers compete with alkaline and solid oxide, and PEM fuel cells compete with battery electrification. The ipython notebook format used here offers the advantage of transparency and enables useful parts to be copied and adapted to solve similar problems. \n",
    "\n",
    "\n",
    "Setup\n",
    "---------\n",
    "\n",
    "\n",
    "We will use the `numpy` package for math, and the `pint` package to help us keep track of units. \n",
    "\n",
    "Setup: If you've installed python with Anaconda, you will already have `numpy`. You may need to install the `pint` package.\n",
    "Open the program \"Anaconda Prompt\", and type:\n",
    "`pip install pint`\n",
    "\n",
    "\n",
    "For this script, the two packages are imported like this:"
   ]
  },
  {
   "cell_type": "code",
   "execution_count": 2,
   "id": "864c1ce5",
   "metadata": {},
   "outputs": [],
   "source": [
    "import numpy as np\n",
    "from pint import UnitRegistry\n",
    "\n",
    "\n",
    "# pint also requires you to initiate its library of units:\n",
    "u = UnitRegistry()"
   ]
  },
  {
   "cell_type": "markdown",
   "id": "b0f991ac",
   "metadata": {},
   "source": [
    "Data on global platinum and iridium production\n",
    "--------------------------------------------------------------\n",
    "This is a very good resource for element scarcity.\n",
    "\n",
    "Peter C. K. Vesborg and Tom Jaramillo, Addressing the Terawatt Challenge. RSC Advances, 2012, 2, 7933-7947\n",
    "https://doi.org/10.1039/C2RA20839C\n",
    "\n",
    "It's from early in the last decade, but the data, at least for platinum and iridium, agree with more recent sources as well.\n",
    "\n",
    "Platinum is a rare element, and iridium is even rarer. There are some places where both are relatively concentrated in the earth's crust, and platinum can be mined commercially. Iridium is a side product to platinum production. These numbers come from figure 1 of the paper."
   ]
  },
  {
   "cell_type": "code",
   "execution_count": 3,
   "id": "d63274a0",
   "metadata": {},
   "outputs": [],
   "source": [
    "# global iridium production rate (~10 tons per year):\n",
    "iridium_production = 1e4 * u(\"kg/yr\") \n",
    "\n",
    "# global platinum production rate (~200 tons per year):\n",
    "platinum_production = 2e5 * u(\"kg/yr\")"
   ]
  },
  {
   "cell_type": "markdown",
   "id": "2af97349",
   "metadata": {},
   "source": [
    "Estimating global H2 demand\n",
    "---------------------\n",
    "\n",
    "The hydrogen demand in Europe in 2030 is estimated in the source: \n",
    "\n",
    "Seck et al, Renewable and Sustainable Energy Reviews, 167, 112779, 2022. https://doi.org/10.1016/j.rser.2022.112779\n",
    "\n",
    "\n",
    "Note that major hydrogen demands include decarbonizing heavy industry, such as steel and ammonia production; and as a reactant to make sustainable shipping and aviation fuels; for transport with fuel cells; and for seasonal energy storage."
   ]
  },
  {
   "cell_type": "code",
   "execution_count": 3,
   "id": "66fdcc8f",
   "metadata": {},
   "outputs": [],
   "source": [
    "installed_capacity_EU_2030 = 200 * u(\"GW\")"
   ]
  },
  {
   "cell_type": "markdown",
   "id": "88bfcc49",
   "metadata": {},
   "source": [
    "To scale that up to the world, we assume that the hydrogen demand is proportional to the total primary energy consumption.\n",
    "\n",
    "The latter is from https://ourworldindata.org/grapher/primary-energy-consumption-by-region"
   ]
  },
  {
   "cell_type": "code",
   "execution_count": 4,
   "id": "67e98577",
   "metadata": {},
   "outputs": [
    {
     "name": "stdout",
     "output_type": "stream",
     "text": [
      "1500.0 gigawatt\n"
     ]
    }
   ],
   "source": [
    "energy_world = 150000 * u(\"TWh\")  # World primary energy consumption\n",
    "energy_EU = 20000 * u(\"TWh\")    # Europe primary energy consumption\n",
    "\n",
    "installed_capacity_world_2030 = installed_capacity_EU_2030 * energy_world / energy_EU\n",
    "\n",
    "print(installed_capacity_world_2030)"
   ]
  },
  {
   "cell_type": "markdown",
   "id": "6ed15bd2",
   "metadata": {},
   "source": [
    "That corresponds to a global installation rate of installation of"
   ]
  },
  {
   "cell_type": "code",
   "execution_count": 5,
   "id": "950ee5c3",
   "metadata": {},
   "outputs": [
    {
     "name": "stdout",
     "output_type": "stream",
     "text": [
      "214.28571428571428 gigawatt / year\n"
     ]
    }
   ],
   "source": [
    "electrolyzer_deployment_rate = installed_capacity_world_2030 / ((2030 - 2023) * u(\"yr\"))\n",
    "\n",
    "print(electrolyzer_deployment_rate)"
   ]
  },
  {
   "cell_type": "markdown",
   "id": "76f04aaa",
   "metadata": {},
   "source": [
    "Data on platinum and iridium in PEM electrolyzers\n",
    "---------------------------------\n",
    "\n",
    "The data in the cell below on iridium inelectrolyzers come from the source: \n",
    "\n",
    "Minke, et el, International Journal of Hydrogen Energy, 46, 46, 23581-23590, 2021\n",
    "https://doi.org/10.1016/j.ijhydene.2021.04.174\n",
    "\n",
    "That article also agrees with the 10 tons/yr production.\n",
    "\n",
    "Platinum loading is a bit lower, as the hydrogen evolution reaction at the cathode is easier to catalyze than the oxygen evolution reaction at the anode. That data, below, is from: \n",
    "https://www.irena.org/-/media/Files/IRENA/Agency/Publication/2020/Dec/IRENA_Green_hydrogen_cost_2020.pdf"
   ]
  },
  {
   "cell_type": "code",
   "execution_count": 6,
   "id": "80641d76",
   "metadata": {},
   "outputs": [],
   "source": [
    "# Energy captured in H2 per charge transferred in water splitting (thermodynamic constant):\n",
    "thermodynamic_potential = 1.23 * u(\"V\")\n",
    "\n",
    "# Current density at which today's PEM electrolyzers usually operate (Minke2021):\n",
    "current_density = 2 * u(\"A/cm^2\")\n",
    "\n",
    "# Amount of iridium in today's commercial PEM electrolyzers (Minke2021):\n",
    "iridium_loading = 3 * u(\"mg/cm^2\")\n",
    "\n",
    "# Amount of Platinum in today's commercial PEM electrolyzers (IRENA)\n",
    "platinum_loading = 2 * u(\"mg/cm^2\")"
   ]
  },
  {
   "cell_type": "markdown",
   "id": "6c80ae58",
   "metadata": {},
   "source": [
    "If we used all the world's platinum\n",
    "-----------------------------------------\n",
    "\n",
    "**Problem:** How fast can we install PEM electrolyzers (in GW/year) if we dedicate all the world's platinum production to it?\n",
    "\n",
    "**Solution:**"
   ]
  },
  {
   "cell_type": "code",
   "execution_count": 7,
   "id": "cef610c0",
   "metadata": {},
   "outputs": [
    {
     "name": "stdout",
     "output_type": "stream",
     "text": [
      "246.0 gigawatt / year\n"
     ]
    }
   ],
   "source": [
    "max_deployment_rate_PEM_cathode = platinum_production / platinum_loading * current_density * thermodynamic_potential\n",
    "\n",
    "max_deployment_rate_PEM_cathode.ito(\"GW/yr\")\n",
    "\n",
    "print(max_deployment_rate_PEM_cathode)"
   ]
  },
  {
   "cell_type": "markdown",
   "id": "347487a7",
   "metadata": {},
   "source": [
    "This is a bit below the needed installation rate, so there is just enough Pt to cover the world's green hydrogen demand in 2030 with PEM electrolyzers. Another way to put it is the number of years of Pt production needed for the 1500 GW:\n",
    "\n",
    "**Problem:** How many years' worth of platinum production at the present rate would be needed to provide platinum for PEM electrolyzer cathodes for all the world's hydrogen demand in 2030?\n",
    "\n",
    "**Solution:**"
   ]
  },
  {
   "cell_type": "code",
   "execution_count": 8,
   "id": "325bede3",
   "metadata": {},
   "outputs": [
    {
     "name": "stdout",
     "output_type": "stream",
     "text": [
      "6.097560975609756 year\n"
     ]
    }
   ],
   "source": [
    "print(installed_capacity_world_2030 / max_deployment_rate_PEM_cathode)"
   ]
  },
  {
   "cell_type": "markdown",
   "id": "5ab8cf06",
   "metadata": {},
   "source": [
    "Reductions in platinum loading will give more breathing room."
   ]
  },
  {
   "cell_type": "markdown",
   "id": "ec65b15e",
   "metadata": {},
   "source": [
    "If we used all the world's iridium\n",
    "------------------------------\n",
    "\n",
    "**Problem:** How many GW of electrolyzers can we install per year if we dedicate all of the world's iridium production to it?\n",
    "\n",
    "**Solution:**"
   ]
  },
  {
   "cell_type": "code",
   "execution_count": null,
   "id": "fa4db2f0",
   "metadata": {},
   "outputs": [],
   "source": []
  },
  {
   "cell_type": "markdown",
   "id": "6bf22ca9",
   "metadata": {},
   "source": [
    "**Problem:** Calculate also the number of years of iridium production it would take to make 1500 GW PEM electrolyzers (enough to cover modeled green H2 demand in 2030).\n",
    "\n",
    "**Solution:**"
   ]
  },
  {
   "cell_type": "code",
   "execution_count": null,
   "id": "9188dc66",
   "metadata": {},
   "outputs": [],
   "source": []
  },
  {
   "cell_type": "markdown",
   "id": "ef49cb97",
   "metadata": {},
   "source": [
    "In other words, there is not enough Ir for today's PEM technology to scale up to meet world demand."
   ]
  },
  {
   "cell_type": "markdown",
   "id": "77519f17",
   "metadata": {},
   "source": [
    "\n",
    "Data on fuel cell motor vehicles\n",
    "---------------------------------------\n",
    "\n",
    "For personal cars, battery electric vehicles are winning over fuel-cell electric vehicles (see https://en.wikipedia.org/wiki/Fuel_cell_vehicle#Automobiles)\n",
    "\n",
    "However, as hydrogen infrastructure improves, fuel cell technology is expected to be competitive with batteries for buses and trucks, where longer range is needed.\n",
    "\n",
    "Here we explore if there is enough platinum for the cathod (oxygen reduction reaction) to make fuel cells to completely replace the world's present fleet of fossil fuel trucks and buses by 2050.\n",
    "\n",
    "The first challenge, is to estimate the total number of buses and trucks:"
   ]
  },
  {
   "cell_type": "code",
   "execution_count": null,
   "id": "ecf9c234",
   "metadata": {},
   "outputs": [],
   "source": [
    "N_vehicles = 1.5e9 # about 1.5 billion motor vehicles (mainly cars, trucks, and buses) in the world.\n",
    "# https://en.wikipedia.org/wiki/Motor_vehicle\n",
    "\n",
    "N_buses_and_trucks = 0.08 * N_vehicles  # About 8% of all motor vehicles are trucks and buses, according to the IEA:\n",
    "# https://www.iea.org/energy-system/transport/trucks-and-buses"
   ]
  },
  {
   "cell_type": "markdown",
   "id": "00cf0a9c",
   "metadata": {},
   "source": [
    "Next, we estimate the average size of the fuel cells in these vehicles by averaging a few models with available data"
   ]
  },
  {
   "cell_type": "code",
   "execution_count": null,
   "id": "51c6471f",
   "metadata": {},
   "outputs": [],
   "source": [
    "P_volvo_FC_truck = 300 * u(\"kW\")\n",
    "# https://www.volvotrucks.com/en-en/news-stories/press-releases/2023/may/volvo-trucks-tests-hydrogen-powered-electric-trucks-on-public-roads.html\n",
    "\n",
    "P_Toyota_FC_bus = 114 * u(\"kW\")\n",
    "# https://media.toyota.co.uk/toyota-equips-sora-hydrogen-fuel-cell-electric-bus-with-preventive-safety-features/\n",
    "\n",
    "P_Sinotruck_FC_truck = [50, 200] * u(\"kW\")  # range given\n",
    "# https://www.electrive.com/2022/09/19/sinotruck-weichai-take-order-for-1100-fcevs-in-china/\n",
    "\n",
    "# The easiest way to take the mean is to first concatonate the quantitites into a vector with units, like this:\n",
    "average_FC_power = u.Quantity.from_list(\n",
    "    [P_volvo_FC_truck, P_Toyota_FC_bus, P_Sinotruck_FC_truck[0], P_Sinotruck_FC_truck[1]]\n",
    ").mean()\n",
    "print(average_FC_power)"
   ]
  },
  {
   "cell_type": "markdown",
   "id": "01a8804b",
   "metadata": {},
   "source": [
    "Data on platinum in PEMFC\n",
    "----------------------------------\n",
    "\n",
    "The platinum loading per kW hour in present vehicles is estimated by the World Platinum Investment Counclil here, under \"Power and platinum loadings\":\n",
    "https://www.cmegroup.com/articles/2022/wpic-fuel-cell-electric-vehicles-and-platinum-demand.html\n",
    "\n",
    "Note that most is on the anode, for catalyzing the reduction of oxygen. A smaller amount is on the cathode, for catalyzing the oxidation of hydrogen."
   ]
  },
  {
   "cell_type": "code",
   "execution_count": null,
   "id": "eecc308e",
   "metadata": {},
   "outputs": [],
   "source": [
    "FC_platinum_per_power = 0.53 * u(\"g/kW\")"
   ]
  },
  {
   "cell_type": "markdown",
   "id": "7a6c7d0a",
   "metadata": {},
   "source": [
    "\n",
    "Total platinum needed\n",
    "------------------------\n",
    "**Problem:** Calculate the total amount of platinum that would be needed for PEM fuel cells for all the world's trucks and buses.\n",
    "\n",
    "**Solution:** "
   ]
  },
  {
   "cell_type": "code",
   "execution_count": null,
   "id": "581f94f9",
   "metadata": {},
   "outputs": [],
   "source": []
  },
  {
   "cell_type": "markdown",
   "id": "f0f48512",
   "metadata": {},
   "source": [
    "If we used all the world's platinum for PEMFC vehicles\n",
    "---------------------------------------\n",
    "The global platinum production rate was given above.\n",
    "\n",
    "**Problem:** Now, ignore all other uses of Pt, including PEMEC cathodes, and assume all the world's platinum until 2050 goes to fuel cell trucks and buses. Is there enough platinum?\n",
    "\n",
    "**Solution:**"
   ]
  },
  {
   "cell_type": "code",
   "execution_count": null,
   "id": "9eabf417",
   "metadata": {},
   "outputs": [],
   "source": []
  },
  {
   "cell_type": "markdown",
   "id": "5e240c58",
   "metadata": {},
   "source": [
    "That's about double the 27 years available until 2050. In other words, there is not enough platinum for the world's coming fuel cell demands, but incremental reductions in loadings can probably make up the difference."
   ]
  }
 ],
 "metadata": {
  "kernelspec": {
   "display_name": "Python 3 (ipykernel)",
   "language": "python",
   "name": "python3"
  },
  "language_info": {
   "codemirror_mode": {
    "name": "ipython",
    "version": 3
   },
   "file_extension": ".py",
   "mimetype": "text/x-python",
   "name": "python",
   "nbconvert_exporter": "python",
   "pygments_lexer": "ipython3",
   "version": "3.11.5"
  }
 },
 "nbformat": 4,
 "nbformat_minor": 5
}
